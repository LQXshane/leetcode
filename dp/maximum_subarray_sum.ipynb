{
 "cells": [
  {
   "cell_type": "code",
   "execution_count": 2,
   "metadata": {
    "collapsed": true
   },
   "outputs": [],
   "source": [
    "import numpy as np\n",
    "\n",
    "nums= [-2,1,-3,4,-1,2,1,-5,4]\n",
    "\n",
    "class Solution(object):\n",
    "    def maxSubArray(self, nums):\n",
    "        \"\"\"\n",
    "        :type nums: List[int]\n",
    "        :rtype: int\n",
    "        \"\"\"\n",
    "        \n",
    "######## IDEA: maintain an 2D array M[idx, len] to find the maximum starting at each index\n",
    "        \n",
    "        n = len(nums)\n",
    "        M = [[- np.inf ]*n for i in range(n)]\n",
    "        \n",
    "        \n",
    "        for i in range(n):\n",
    "            \n",
    "            M[i][0] = nums[i]\n",
    "                \n",
    "            for j in range(i+1, n):\n",
    "                \n",
    "                M[i][j-i] = M[i][j-i-1]+ nums[j]\n",
    "        \n",
    "        arr = np.array(M).flatten()\n",
    "\n",
    "        return int(max(arr))\n",
    "\n",
    "\n",
    "####### This DP version naively runs in O(n)"
   ]
  },
  {
   "cell_type": "code",
   "execution_count": 44,
   "metadata": {
    "collapsed": true
   },
   "outputs": [],
   "source": [
    "sol = Solution()"
   ]
  },
  {
   "cell_type": "code",
   "execution_count": 45,
   "metadata": {
    "collapsed": false
   },
   "outputs": [
    {
     "data": {
      "text/plain": [
       "6"
      ]
     },
     "execution_count": 45,
     "metadata": {},
     "output_type": "execute_result"
    }
   ],
   "source": [
    "sol.maxSubArray(nums)"
   ]
  },
  {
   "cell_type": "code",
   "execution_count": 46,
   "metadata": {
    "collapsed": true
   },
   "outputs": [],
   "source": [
    "#### Kadane's algorithm solving max subarray sum problem\n",
    "\n",
    "class Solution(object):\n",
    "    def maxSubArray(self, nums):\n",
    "        \n",
    "        cur_sum = opt_sum = nums[0]\n",
    "        \n",
    "        for num in nums[1:]:\n",
    "            \n",
    "            \n",
    "            \n",
    "            if cur_sum + num < 0: cur_sum = 0\n",
    "            \n",
    "            cur_sum = max(cur_sum + num, num)\n",
    "                \n",
    "            opt_sum = max(cur_sum, opt_sum)\n",
    "            \n",
    "        return opt_sum\n",
    "            \n",
    "            \n",
    "            \n",
    "            \n",
    "###### This runs in O(n) and beats 32% of python submissions\n",
    "\n",
    "            "
   ]
  },
  {
   "cell_type": "code",
   "execution_count": 47,
   "metadata": {
    "collapsed": true
   },
   "outputs": [],
   "source": [
    "sol2 = Solution()"
   ]
  },
  {
   "cell_type": "code",
   "execution_count": 48,
   "metadata": {
    "collapsed": false
   },
   "outputs": [
    {
     "data": {
      "text/plain": [
       "6"
      ]
     },
     "execution_count": 48,
     "metadata": {},
     "output_type": "execute_result"
    }
   ],
   "source": [
    "sol2.maxSubArray(nums)"
   ]
  },
  {
   "cell_type": "code",
   "execution_count": null,
   "metadata": {
    "collapsed": true
   },
   "outputs": [],
   "source": []
  }
 ],
 "metadata": {
  "anaconda-cloud": {},
  "kernelspec": {
   "display_name": "Python [conda root]",
   "language": "python",
   "name": "conda-root-py"
  },
  "language_info": {
   "codemirror_mode": {
    "name": "ipython",
    "version": 2
   },
   "file_extension": ".py",
   "mimetype": "text/x-python",
   "name": "python",
   "nbconvert_exporter": "python",
   "pygments_lexer": "ipython2",
   "version": "2.7.12"
  }
 },
 "nbformat": 4,
 "nbformat_minor": 1
}
