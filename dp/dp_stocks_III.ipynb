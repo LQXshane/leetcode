{
 "cells": [
  {
   "cell_type": "markdown",
   "metadata": {},
   "source": [
    "Say you have an array for which the ith element is the price of a given stock on day i.\n",
    "\n",
    "Design an algorithm to find the maximum profit. You may complete at most two transactions.\n",
    "\n",
    "Note:\n",
    "You may not engage in multiple transactions at the same time (ie, you must sell the stock before you buy again)."
   ]
  },
  {
   "cell_type": "code",
   "execution_count": 1,
   "metadata": {
    "collapsed": true
   },
   "outputs": [],
   "source": [
    "class Solution(object):\n",
    "    def maxProfit(self, prices):\n",
    "        \"\"\"\n",
    "        :type prices: List[int]\n",
    "        :rtype: int\n",
    "        \"\"\"\n",
    "        K = 2 # of transactions\n",
    "        maxprof = 0\n",
    "        n = len(prices)\n",
    "        \n",
    "        # error handling\n",
    "        if n < 1: return 0\n",
    "        \n",
    "        \n",
    "        M = [[0] * n for i in range(K)]\n",
    "        \n",
    "        # M[k][n] is the profit gained by k transactions up to day n\n",
    "        \n",
    "        for i in range(K):\n",
    "            \n",
    "            tmpmax = M[i-1][0] - prices[0]\n",
    "            \n",
    "            # initialize temporary maximum profit for each row \n",
    "            \n",
    "            for j in range(n):\n",
    "            \n",
    "                M[i][j] = max(M[i][j-1], prices[j] + tmpmax)\n",
    "                \n",
    "                tmpmax = max(tmpmax, M[i-1][j] - prices[j])\n",
    "                \n",
    "                # to day j with the i-th transaction, two scenarios:\n",
    "                \n",
    "                # 1. sell stock at prices[j] and gain a profit out of max(M[i-1][j] - prices[j])\n",
    "                \n",
    "                # 2. not sell, if the profit does not exceed M[i][j-1]\n",
    "                \n",
    "                # concrete DP expression:\n",
    "                \n",
    "                # maxProfit[2][n] = max( maxprofit[2][n-1], max(maxProfit[1][n] - prices[n]))\n",
    "                \n",
    "                maxprof = max(M[i][j], maxprof)\n",
    "                \n",
    "        return maxprof#, M\n",
    "            \n",
    "        "
   ]
  },
  {
   "cell_type": "code",
   "execution_count": 2,
   "metadata": {
    "collapsed": false
   },
   "outputs": [
    {
     "data": {
      "text/plain": [
       "7"
      ]
     },
     "execution_count": 2,
     "metadata": {},
     "output_type": "execute_result"
    }
   ],
   "source": [
    "prices = [7, 1, 5, 3, 6, 4]\n",
    "\n",
    "sol = Solution()\n",
    "\n",
    "sol.maxProfit(prices)\n"
   ]
  },
  {
   "cell_type": "code",
   "execution_count": null,
   "metadata": {
    "collapsed": true
   },
   "outputs": [],
   "source": []
  }
 ],
 "metadata": {
  "anaconda-cloud": {},
  "kernelspec": {
   "display_name": "Python [conda root]",
   "language": "python",
   "name": "conda-root-py"
  },
  "language_info": {
   "codemirror_mode": {
    "name": "ipython",
    "version": 2
   },
   "file_extension": ".py",
   "mimetype": "text/x-python",
   "name": "python",
   "nbconvert_exporter": "python",
   "pygments_lexer": "ipython2",
   "version": "2.7.12"
  }
 },
 "nbformat": 4,
 "nbformat_minor": 1
}
